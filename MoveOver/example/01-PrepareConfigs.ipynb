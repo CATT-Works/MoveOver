{
 "cells": [
  {
   "attachments": {},
   "cell_type": "markdown",
   "metadata": {},
   "source": [
    "# Preprare configs\n",
    "\n",
    "This notebook supports the process of preparing config files.\n",
    "The goals of the notebooks are as follows:\n",
    "- extract selected frame(s) from the video\n",
    "- define and test unwrapping parameters (camera view -> bird's eye view)\n",
    "- define brid-eye to map transition parameters\n",
    "- check the lane mask"
   ]
  },
  {
   "cell_type": "code",
   "execution_count": null,
   "metadata": {
    "tags": []
   },
   "outputs": [],
   "source": [
    "import sys\n",
    "sys.path.insert(0,'..')\n",
    "\n",
    "import os\n",
    "import numpy as np\n",
    "import cv2\n",
    "import matplotlib.pyplot as plt\n",
    "import pathlib \n",
    "\n",
    "import pickle\n",
    "from moveoverlib.functions import *\n",
    "\n",
    "import config\n",
    "\n",
    "%matplotlib inline"
   ]
  },
  {
   "cell_type": "code",
   "execution_count": null,
   "metadata": {},
   "outputs": [],
   "source": [
    "pathlib.Path(config.DATA_PATH).mkdir(parents=True, exist_ok=True)\n",
    "\n",
    "VIDEO_FILE = '../../videos/vid_source.mp4'\n",
    "\n",
    "pickle.dump(VIDEO_FILE, open(f'{config.DATA_PATH}/videopath.p', 'wb'))\n",
    "\n",
    "# Create folder for images\n",
    "pathlib.Path('./images/').mkdir(parents=True, exist_ok=True)\n",
    "\n",
    "# Extract frames\n",
    "extractFrame(VIDEO_FILE, frameno = (0*60)*15, dest_file = './images/frame_view1.jpg');\n"
   ]
  },
  {
   "cell_type": "markdown",
   "metadata": {},
   "source": [
    "Points for source (camera view) and destination (image view)\n",
    "First four points are used for unwrapping, the rest is just display at tests"
   ]
  },
  {
   "cell_type": "code",
   "execution_count": null,
   "metadata": {},
   "outputs": [],
   "source": [
    "SRC = np.float32([\n",
    "    [581, 727], # Left speed limit\n",
    "    [1458, 717], # Right speed limit\n",
    "    [800, 430], # Left railing\n",
    "    [1578, 411], # Right railing\n",
    "    [643, 474], # Sign\n",
    "])\n",
    "\n",
    "DST = np.float32([\n",
    "    [206, 29], # Left speed limit\n",
    "    [41, 75], # Right speed limit\n",
    "    [567, 925], # Left railing\n",
    "    [287, 1170], # Right railing\n",
    "    [543, 724], # Sign\n",
    "])\n",
    "\n",
    "\n",
    "print ('  \"cameraPoints\" : [[{}, {}], [{}, {}], [{}, {}], [{}, {}]],'.format(\n",
    "    int(SRC[0][0]), int(SRC[0][1]),\n",
    "    int(SRC[1][0]), int(SRC[1][1]),\n",
    "    int(SRC[2][0]), int(SRC[2][1]),\n",
    "    int(SRC[3][0]), int(SRC[3][1])\n",
    "))\n",
    "\n",
    "print ('  \"birdEyePoints\" : [[{}, {}], [{}, {}], [{}, {}], [{}, {}]],'.format(\n",
    "    int(DST[0][0]), int(DST[0][1]),\n",
    "    int(DST[1][0]), int(DST[1][1]),\n",
    "    int(DST[2][0]), int(DST[2][1]),\n",
    "    int(DST[3][0]), int(DST[3][1]),\n",
    "))\n",
    "\n"
   ]
  },
  {
   "cell_type": "code",
   "execution_count": null,
   "metadata": {},
   "outputs": [],
   "source": [
    "M = cv2.getPerspectiveTransform(SRC[:4], DST[:4])\n",
    "Minv = cv2.getPerspectiveTransform(DST[:4], SRC[:4])"
   ]
  },
  {
   "cell_type": "code",
   "execution_count": null,
   "metadata": {},
   "outputs": [],
   "source": [
    "map_file = './images/SkyView.jpg'\n",
    "ret = displayPoints(SRC, M, './images/frame_view1.jpg', map_file)"
   ]
  },
  {
   "cell_type": "code",
   "execution_count": null,
   "metadata": {},
   "outputs": [],
   "source": [
    "ret = displayPoints(DST, Minv, map_file,  './images/frame_view1.jpg')"
   ]
  },
  {
   "cell_type": "markdown",
   "metadata": {},
   "source": [
    "# SkyView 2 Geocoordinates"
   ]
  },
  {
   "cell_type": "code",
   "execution_count": null,
   "metadata": {},
   "outputs": [],
   "source": [
    "latlon1 = 45.743893, -122.660828\n",
    "xy1 = 96, 30\n",
    "latlon2 = 45.742497, -122.659864\n",
    "xy2 = 635, 1151"
   ]
  },
  {
   "cell_type": "markdown",
   "metadata": {},
   "source": [
    "# RITIS Data\n",
    "Useful only in MoveOver2. For MoveOver1 project, just ignore it."
   ]
  },
  {
   "cell_type": "code",
   "execution_count": 1,
   "metadata": {},
   "outputs": [],
   "source": [
    "TMC_SEGMENT = ''\n",
    "RITIS_SPEED = None\n",
    "RITIS_BOTTLENECK = False"
   ]
  },
  {
   "cell_type": "markdown",
   "metadata": {},
   "source": [
    "# Lane masks"
   ]
  },
  {
   "cell_type": "code",
   "execution_count": null,
   "metadata": {},
   "outputs": [],
   "source": [
    "MASK_PATH = './images/mask.png'\n",
    "\n",
    "sys.path.insert(0,'../..')\n",
    "from cav.parameters import Parameters\n",
    "params = Parameters()\n",
    "params.generateParameters('./params.json')\n",
    "\n",
    "\n",
    "mask = (255*plt.imread(MASK_PATH)).astype(int)\n",
    "if (len(mask.shape) == 3) and (mask.shape[2] > 1):\n",
    "    #mask = np.sum(mask, axis=2)\n",
    "    mask = mask[:, :, 0]\n",
    "plt.imshow(mask, cmap='gray')\n",
    "unique = np.unique(mask, return_counts=True)\n",
    "print (unique)\n",
    "\n",
    "if [0] + params.lanes_mask == sorted(unique[0]):\n",
    "    print ('OK! Mask parameers defined correctly in params.json.')\n",
    "else:\n",
    "    print (f'json file : {[0] + params.lanes_mask}')\n",
    "    print (f'from image : {sorted(unique)}')\n",
    "    "
   ]
  },
  {
   "cell_type": "markdown",
   "metadata": {},
   "source": [
    "### Create json file"
   ]
  },
  {
   "cell_type": "code",
   "execution_count": null,
   "metadata": {},
   "outputs": [],
   "source": [
    "img = cv2.imread('./images/frame_view1.jpg')\n",
    "skyview = cv2.imread('./images/SkyView.jpg')\n",
    "\n",
    "jsonfile = '''{{\n",
    "  \"videoShape\" : [{}, {}],\n",
    "  \"birdEyeViewShape\" : [{}, {}],\n",
    "\n",
    "  \"cameraPoints\" : [[{}, {}], [{}, {}], [{}, {}], [{}, {}]],\n",
    "  \"birdEyePoints\" : [[{}, {}], [{}, {}], [{}, {}], [{}, {}]],\n",
    "\n",
    "  \"birdEyeCoordinates\" : [[{}, {}], [{}, {}]],\n",
    "  \"latLonCoordinates\" : [[{}, {}], [{}, {}]],\n",
    "  \"elevation\" : 40,\n",
    "    \n",
    "  \"lanes_mask\" : {}\n",
    "  \"tmc_segment\" : {}\n",
    "  \"ritis_speed\" : {}\n",
    "  \"ritis_bottleneck\" : {}\n",
    "}}'''.format(\n",
    "    img.shape[1], img.shape[0], # videoShape\n",
    "    skyview.shape[1], skyview.shape[0], # birdEyeViewShape\n",
    "    \n",
    "    int(SRC[0][0]), int(SRC[0][1]), # cameraPoints\n",
    "    int(SRC[1][0]), int(SRC[1][1]),\n",
    "    int(SRC[2][0]), int(SRC[2][1]),\n",
    "    int(SRC[3][0]), int(SRC[3][1]), # cameraPointsEnd \n",
    "    \n",
    "    int(DST[0][0]), int(DST[0][1]), # birdEyePoints\n",
    "    int(DST[1][0]), int(DST[1][1]),\n",
    "    int(DST[2][0]), int(DST[2][1]),\n",
    "    int(DST[3][0]), int(DST[3][1]), # birdEyePointsEnd\n",
    "    \n",
    "    xy1[0], xy1[1], xy2[0], xy2[1], #birdEyeCoordinates\n",
    "\n",
    "    latlon1[1], latlon1[0], #latLonCoordinates\n",
    "    latlon2[1], latlon2[0],\n",
    "    \n",
    "    str(sorted(unique[0])[1:]), # lanes_mask\n",
    "\n",
    "    str(TMC_SEGMENT), # RITIS-based data\n",
    "    RITIS_SPEED,\n",
    "    RITIS_BOTTLENECK,\n",
    ")\n",
    "\n",
    "with open('params.json', 'w') as f:\n",
    "    for line in jsonfile.split('\\n'):\n",
    "        print (line)\n",
    "        f.write(line + '\\n')\n",
    "\n"
   ]
  },
  {
   "cell_type": "code",
   "execution_count": null,
   "metadata": {},
   "outputs": [],
   "source": []
  }
 ],
 "metadata": {
  "kernelspec": {
   "display_name": "Python 3 (ipykernel)",
   "language": "python",
   "name": "python3"
  },
  "language_info": {
   "codemirror_mode": {
    "name": "ipython",
    "version": 3
   },
   "file_extension": ".py",
   "mimetype": "text/x-python",
   "name": "python",
   "nbconvert_exporter": "python",
   "pygments_lexer": "ipython3",
   "version": "3.11.3"
  },
  "toc-autonumbering": false,
  "toc-showcode": false,
  "toc-showmarkdowntxt": false
 },
 "nbformat": 4,
 "nbformat_minor": 4
}
